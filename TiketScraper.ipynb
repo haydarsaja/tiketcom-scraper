{
 "cells": [
  {
   "cell_type": "code",
   "execution_count": 6,
   "metadata": {},
   "outputs": [],
   "source": [
    "from selenium import webdriver\n",
    "from selenium.webdriver.common.by import By\n",
    "from selenium.webdriver.support.ui import WebDriverWait\n",
    "from selenium.webdriver.support import expected_conditions as EC\n",
    "from selenium.webdriver.common.keys import Keys\n",
    "from openpyxl.workbook import Workbook\n",
    "import time\n",
    "import pandas as pd"
   ]
  },
  {
   "cell_type": "code",
   "execution_count": 7,
   "metadata": {},
   "outputs": [],
   "source": [
    "browser = webdriver.Chrome(executable_path='C:/Users/Haydar/Desktop/chromedriver')"
   ]
  },
  {
   "cell_type": "code",
   "execution_count": 3,
   "metadata": {},
   "outputs": [],
   "source": [
    "#ClosePopUP\n",
    "def pop_up():\n",
    "    pop_up = browser.find_element_by_xpath('//*[@id=\"app\"]/div/div[4]/div[2]/div/div[2]/div/div[2]/div[2]/div[2]/div[1]/div[2]/div[3]')\n",
    "    pop_up.click()\n",
    "    time.sleep(7)\n",
    "    print('pop up sudah close')\n",
    "\n",
    "#Expand Detail Penerbangan\n",
    "def expand_detail():\n",
    "    panjang_expand = browser.find_elements_by_xpath('//div[@class=\"wrapper-flight-list\"]')\n",
    "    for i in range (len(panjang_expand)):\n",
    "            expand_detail = browser.find_element_by_xpath('//div[@class=\"text-details list-horizontal__top\"][contains(text(), \"Detail Penerbangan\")]')\n",
    "            browser.execute_script(\"arguments[0].click();\", expand_detail)\n",
    "    print('Expand Sukses')"
   ]
  },
  {
   "cell_type": "code",
   "execution_count": 4,
   "metadata": {},
   "outputs": [],
   "source": [
    "#Set Loop and Data\n",
    "df = pd.DataFrame()\n",
    "\n",
    "def compile_data():\n",
    "    global df\n",
    "    global list_waktu_keberangkatan\n",
    "    global list_kode_bandara_keberangkatan\n",
    "    global list_waktu_kedatangan\n",
    "    global list_kode_bandara_kedatangan\n",
    "    global list_maskapai\n",
    "    global list_harga\n",
    "    global list_durasi_penerbangan\n",
    "    global list_kode_penerbangan\n",
    "\n",
    "    #waktu berangkat\n",
    "    waktu_keberangkatan = browser.find_elements_by_xpath('//div[@class=\"text-time\"]')\n",
    "    list_waktu_keberangkatan = [value.text for value in waktu_keberangkatan]\n",
    "    \n",
    "    #kode bandara keberangkatan\n",
    "    kode_bandara_keberangkatan = browser.find_elements_by_xpath('//div[@class=\"text-code\"]')\n",
    "    list_kode_bandara_keberangkatan = [value.text for value in kode_bandara_keberangkatan]\n",
    "    \n",
    "    #waktu kedatangan\n",
    "    waktu_kedatangan = browser.find_elements_by_xpath('//div[@class=\"text-time\"]')\n",
    "    list_waktu_kedatangan = [value.text for value in waktu_kedatangan]\n",
    "    \n",
    "    #kode bandara kedatangan\n",
    "    kode_bandara_kedatangan = browser.find_elements_by_xpath('//div[@class=\"text-code\"]')\n",
    "    list_kode_bandara_kedatangan = [value.text for value in kode_bandara_kedatangan]\n",
    "    \n",
    "    #nama maskapai\n",
    "    maskapai = browser.find_elements_by_xpath('//span[@class=\"text-marketing-airline\"]')\n",
    "    list_maskapai = [value.text for value in maskapai]\n",
    "    \n",
    "    #kode penerbangan\n",
    "    kode_penerbangan = browser.find_elements_by_xpath('//div[@class=\"list-horizontal__middle header-title\"]')\n",
    "    list_kode_penerbangan = [value.text for value in kode_penerbangan]\n",
    "    \n",
    "    #harga\n",
    "    harga = browser.find_elements_by_xpath('//div[@class=\"col-xs-7\"]')\n",
    "    list_harga = [value.text.split(\"IDR\")[1] for value in harga]\n",
    "    \n",
    "    #durasi\n",
    "    durasi = browser.find_elements_by_xpath('//th[@class=\"col-flight-detail-1 text-date-fd\"]')\n",
    "    list_durasi_penerbangan = [value.text for value in durasi]\n",
    "\n",
    "    for i in range(len(list_waktu_keberangkatan)):\n",
    "        try:\n",
    "            df.loc[i, 'waktu_berangkat'] = list_waktu_keberangkatan[2*i]\n",
    "        except Exception as e:\n",
    "            pass\n",
    "        try:\n",
    "            df.loc[i, 'kode_bandara_keberangkatan'] = list_kode_bandara_keberangkatan[2*i]\n",
    "        except Exception as e:\n",
    "            pass\n",
    "        try:\n",
    "            df.loc[i, 'waktu_kedatangan'] = list_waktu_kedatangan[2*i+1]\n",
    "        except Exception as e:\n",
    "            pass\n",
    "        try:\n",
    "            df.loc[i, 'kode_bandara_kedatangan'] = list_kode_bandara_kedatangan[2*i+1]\n",
    "        except Exception as e:\n",
    "            pass\n",
    "        try:\n",
    "            df.loc[i, 'durasi'] = list_durasi_penerbangan[i]\n",
    "        except Exception as e:\n",
    "            pass\n",
    "        try:\n",
    "            df.loc[i, 'maskapai'] = list_maskapai[i]\n",
    "        except Exception as e:\n",
    "            pass\n",
    "        try:\n",
    "            df.loc[i, 'kode_penerbangan'] = list_kode_penerbangan[2*i]\n",
    "        except Exception as e:\n",
    "            pass\n",
    "        try:\n",
    "            df.loc[i, 'harga'] = list_harga[i]\n",
    "        except Exception as e:\n",
    "            pass\n",
    "        \n",
    "    print('Excel Sheet Telah dibuat')"
   ]
  },
  {
   "cell_type": "code",
   "execution_count": 5,
   "metadata": {
    "scrolled": true
   },
   "outputs": [
    {
     "name": "stdout",
     "output_type": "stream",
     "text": [
      "pop up sudah close\n",
      "Proses Scroll Success\n",
      "Expand Sukses\n",
      "Excel Sheet Telah dibuat\n"
     ]
    }
   ],
   "source": [
    "for i in range(1):\n",
    "    link = 'https://www.tiket.com/pesawat/search?d=JKTC&a=JOGC&dType=CITY&aType=CITY&date=2020-11-30&adult=1&child=0&infant=0&class=economy&flexiFare=false&stops=direct'\n",
    "    browser.get(link)\n",
    "    time.sleep(1)\n",
    "    \n",
    "    #ClosePopUp\n",
    "    pop_up()\n",
    "    \n",
    "    #ScrollKebawah\n",
    "    for i in range(1, 8000, 10):\n",
    "        browser.execute_script(\"window.scrollTo(0, window.scrollY + i)\")\n",
    "    print('Proses Scroll Success')  \n",
    "    \n",
    "    #Expand\n",
    "    expand_detail()\n",
    "    \n",
    "    #Buka data\n",
    "    compile_data()\n",
    "\n",
    "    #Create Excel\n",
    "    df.to_excel(r'D:/Kerjaan Kantor/Jakarta - Yogyakarta/Tanggal 30.xlsx', sheet_name='Tanggal 30', index=False)"
   ]
  },
  {
   "cell_type": "code",
   "execution_count": null,
   "metadata": {},
   "outputs": [],
   "source": []
  },
  {
   "cell_type": "code",
   "execution_count": null,
   "metadata": {},
   "outputs": [],
   "source": []
  },
  {
   "cell_type": "code",
   "execution_count": null,
   "metadata": {},
   "outputs": [],
   "source": []
  },
  {
   "cell_type": "code",
   "execution_count": null,
   "metadata": {},
   "outputs": [],
   "source": []
  },
  {
   "cell_type": "code",
   "execution_count": null,
   "metadata": {},
   "outputs": [],
   "source": []
  },
  {
   "cell_type": "code",
   "execution_count": null,
   "metadata": {},
   "outputs": [],
   "source": []
  },
  {
   "cell_type": "code",
   "execution_count": null,
   "metadata": {},
   "outputs": [],
   "source": []
  }
 ],
 "metadata": {
  "kernelspec": {
   "display_name": "Python 3",
   "language": "python",
   "name": "python3"
  },
  "language_info": {
   "codemirror_mode": {
    "name": "ipython",
    "version": 3
   },
   "file_extension": ".py",
   "mimetype": "text/x-python",
   "name": "python",
   "nbconvert_exporter": "python",
   "pygments_lexer": "ipython3",
   "version": "3.7.0"
  }
 },
 "nbformat": 4,
 "nbformat_minor": 4
}
